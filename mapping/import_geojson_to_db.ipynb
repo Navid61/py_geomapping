{
 "cells": [
  {
   "cell_type": "markdown",
   "metadata": {},
   "source": [
    "### Requirement library\n",
    "<ol>\n",
    "<li>folium</li>\n",
    "<li>psycopg2</li>\n",
    "<li>json</li>\n",
    "<li>tqdm</li>\n",
    "</ol>\n"
   ]
  },
  {
   "cell_type": "code",
   "execution_count": 3,
   "metadata": {},
   "outputs": [
    {
     "name": "stdout",
     "output_type": "stream",
     "text": [
      "Connected to PostgreSQL!\n"
     ]
    },
    {
     "name": "stderr",
     "output_type": "stream",
     "text": [
      "Importing GeoJSON: 100%|██████████| 509710/509710 [02:12<00:00, 3848.31it/s]\n"
     ]
    }
   ],
   "source": [
    "import folium\n",
    "# Remove unused imports if not needed\n",
    "# from folium.utilities import JsCode\n",
    "# from folium.elements import EventHandler\n",
    "import psycopg2\n",
    "import json\n",
    "from tqdm import tqdm\n",
    "\n",
    "# Path to the GeoJSON file\n",
    "geojson_file = '../geodata/properties/geojson/properties_assessment_units.geojson'\n",
    "\n",
    "def import_geojson(db_conn, geojson_file, table_name):\n",
    "    \"\"\"\n",
    "    Imports GeoJSON data into a PostgreSQL table, displaying a progress bar.\n",
    "\n",
    "    Args:\n",
    "        db_conn (psycopg2.connect): A psycopg2 connection object.\n",
    "        geojson_file (str): The path to the GeoJSON file.\n",
    "        table_name (str): The name of the PostgreSQL table.\n",
    "    \"\"\"\n",
    "    with open(geojson_file, 'r') as f:\n",
    "        geojson_data = json.load(f)\n",
    "    \n",
    "    cursor = db_conn.cursor()\n",
    "    total_features = len(geojson_data['features'])\n",
    "\n",
    "    with tqdm(total=total_features, desc=\"Importing GeoJSON\") as pbar:\n",
    "        for feature in geojson_data['features']:\n",
    "            geometry = feature['geometry']\n",
    "            properties = feature['properties']\n",
    "\n",
    "            # Convert geometry to WKT or use ST_GeomFromGeoJSON for GeoJSON\n",
    "            geom_wkt = json.dumps(geometry)\n",
    "\n",
    "            # Convert property keys to lowercase (if your table uses lowercase column names)\n",
    "            properties = {k.lower(): v for k, v in properties.items()}\n",
    "\n",
    "            # Assuming table has columns matching the properties dict keys\n",
    "            columns = ', '.join(properties.keys())\n",
    "            values = ', '.join(['%s'] * len(properties))\n",
    "\n",
    "            sql = f\"INSERT INTO {table_name} (geom, {columns}) VALUES (ST_GeomFromGeoJSON(%s), {values})\"\n",
    "            cursor.execute(sql, (geom_wkt, *properties.values()))\n",
    "\n",
    "            pbar.update(1)\n",
    "\n",
    "    cursor.close()\n",
    "    db_conn.commit()\n",
    "\n",
    "# Example usage:\n",
    "try:\n",
    "    db_conn = psycopg2.connect(\n",
    "        host=\"localhost\",  # Replace with the IP address or hostname of your Podman container\n",
    "        port=5432,\n",
    "        dbname=\"montreal\",  # Replace with the name of your PostgreSQL database\n",
    "        user=\"postgres\",  # Replace with your PostgreSQL username\n",
    "        password=\"postgres\"  # Replace with your PostgreSQL password\n",
    "    )\n",
    "\n",
    "    print(\"Connected to PostgreSQL!\")\n",
    "\n",
    "    import_geojson(db_conn, geojson_file, \"montreal_properties\")\n",
    "    db_conn.close()\n",
    "except psycopg2.Error as e:\n",
    "    print(\"Error connecting to PostgreSQL:\", e)"
   ]
  }
 ],
 "metadata": {
  "kernelspec": {
   "display_name": ".venv",
   "language": "python",
   "name": "python3"
  },
  "language_info": {
   "codemirror_mode": {
    "name": "ipython",
    "version": 3
   },
   "file_extension": ".py",
   "mimetype": "text/x-python",
   "name": "python",
   "nbconvert_exporter": "python",
   "pygments_lexer": "ipython3",
   "version": "3.11.2"
  }
 },
 "nbformat": 4,
 "nbformat_minor": 2
}
