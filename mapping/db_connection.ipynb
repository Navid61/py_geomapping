{
 "cells": [
  {
   "cell_type": "markdown",
   "metadata": {},
   "source": [
    "### Requirement\n",
    "<p> install<span style='color:red'> psycopg2 </span> library </p>\n",
    "<p> Check db connection is okay </p>"
   ]
  },
  {
   "cell_type": "code",
   "execution_count": 1,
   "metadata": {},
   "outputs": [
    {
     "name": "stdout",
     "output_type": "stream",
     "text": [
      "Connected to PostgreSQL!\n"
     ]
    }
   ],
   "source": [
    "# Check postgrsql connection\n",
    "import psycopg2\n",
    "\n",
    "try:\n",
    "    conn = psycopg2.connect(\n",
    "        host=\"localhost\",  # Replace with the IP address or hostname of your Podman container\n",
    "        port=5432,\n",
    "        dbname=\"montreal\",  # Replace with the name of your PostgreSQL database\n",
    "        user=\"postgres\",  # Replace with your PostgreSQL username\n",
    "        password=\"postgres\"  # Replace with your PostgreSQL password\n",
    "    )\n",
    "\n",
    "    print(\"Connected to PostgreSQL!\")\n",
    "\n",
    "except psycopg2.Error as e:\n",
    "    print(\"Error connecting to PostgreSQL:\", e)"
   ]
  }
 ],
 "metadata": {
  "kernelspec": {
   "display_name": ".venv",
   "language": "python",
   "name": "python3"
  },
  "language_info": {
   "codemirror_mode": {
    "name": "ipython",
    "version": 3
   },
   "file_extension": ".py",
   "mimetype": "text/x-python",
   "name": "python",
   "nbconvert_exporter": "python",
   "pygments_lexer": "ipython3",
   "version": "3.11.2"
  }
 },
 "nbformat": 4,
 "nbformat_minor": 2
}
